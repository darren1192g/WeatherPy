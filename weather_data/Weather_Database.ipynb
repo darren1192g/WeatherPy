{
 "cells": [
  {
   "cell_type": "markdown",
   "metadata": {},
   "source": [
    "# Deliverable 1. Retrieve Weather Data.\n",
    "---\n",
    "1. Create a folder called `Weather_Database` to save all the files related with this deliverable.\n",
    "\n",
    "2. Save the `Weather_Database_starter_code.ipynb` starter code to the `Weather_Database` folder and rename it as `Weather_Database.ipynb`.\n",
    "\n",
    "3. Use the `np.random.uniform` function to generate a new set of 2,000 random latitudes and 2,000 longitudes.\n",
    "\n",
    "4. Use the `citipy` module to get the nearest city for each latitude and longitude combination.\n",
    "\n",
    "5. Import your OpenWeatherMap's API key and assemble the API call URL as a string variable. Recall to edit the `config.py` file to add your API key; also, it's critical to avoid publishing your API key on your GitHub repository.\n",
    "\n",
    "6. Retrieve the following information from the API call:\n",
    "\n",
    "    * Latitude and longitude\n",
    "\n",
    "    * Maximum temperature\n",
    "\n",
    "    * Percent humidity\n",
    "\n",
    "    * Percent cloudiness\n",
    "\n",
    "    * Wind speed\n",
    "\n",
    "    * Weather description (for example, clouds, fog, light rain, clear sky)\n",
    "\n",
    "7. Add the weather data to a new DataFrame.\n",
    "\n",
    "8. Export the DataFrame as a CSV file, and save it as `WeatherPy_Database.csv` in the `Weather_Database` folder.\n",
    "---"
   ]
  },
  {
   "cell_type": "code",
   "execution_count": 1,
   "metadata": {},
   "outputs": [],
   "source": [
    "# Import initial libraries\n",
    "import numpy as np\n",
    "import pandas as pd\n",
    "import random"
   ]
  },
  {
   "cell_type": "code",
   "execution_count": 2,
   "metadata": {},
   "outputs": [],
   "source": [
    "from citipy import citipy"
   ]
  },
  {
   "cell_type": "markdown",
   "metadata": {},
   "source": [
    "## Use the `np.random.uniform` function to generate a new set of 2,000 random latitudes and 2,000 longitudes."
   ]
  },
  {
   "cell_type": "code",
   "execution_count": 3,
   "metadata": {},
   "outputs": [],
   "source": [
    "# Create a set of random latitude and longitude combinations\n",
    "lats = np.random.uniform(low=-90.000, high=90.000, size=1500)\n",
    "lngs = np.random.uniform(low=-180.000, high=180.000, size=1500)\n",
    "\n",
    "# Use the zip function to create an iterator of tuples containing the latitude and longitude combinations\n",
    "lat_lngs = zip(lats, lngs)"
   ]
  },
  {
   "cell_type": "code",
   "execution_count": 4,
   "metadata": {},
   "outputs": [],
   "source": [
    "# Add the latitudes and longitudes to a list\n",
    "coordinates = list(lat_lngs)"
   ]
  },
  {
   "cell_type": "markdown",
   "metadata": {},
   "source": [
    "## Use the `citipy` module to get the nearest city for each latitude and longitude combination."
   ]
  },
  {
   "cell_type": "code",
   "execution_count": 5,
   "metadata": {},
   "outputs": [
    {
     "data": {
      "text/plain": [
       "608"
      ]
     },
     "execution_count": 5,
     "metadata": {},
     "output_type": "execute_result"
    }
   ],
   "source": [
    "# Create an empty list for holding the cities\n",
    "cities = []\n",
    "\n",
    "# Use a for loop to identify nearest city for each latitude and longitude combination using the citipy module\n",
    "for coordinate in coordinates:\n",
    "    # Use the citipy module to identify the nearest city to the current coordinate\n",
    "    city = citipy.nearest_city(coordinate[0], coordinate[1]).city_name\n",
    "    \n",
    "    # If the city is unique, then add it to a our cities list\n",
    "    if city not in cities:\n",
    "        cities.append(city)\n",
    "\n",
    "# Print the city count to confirm sufficient count\n",
    "len(cities)"
   ]
  },
  {
   "cell_type": "markdown",
   "metadata": {},
   "source": [
    "## Import your OpenWeatherMap's API key and assemble the API call URL as a string variable. Recall to edit the `config.py` file to add your API key."
   ]
  },
  {
   "cell_type": "code",
   "execution_count": 6,
   "metadata": {},
   "outputs": [],
   "source": [
    "# Import the requests library\n",
    "import requests\n",
    "\n",
    "# Import the time library\n",
    "import time\n",
    "\n",
    "# Import the datetime module from the datetime library\n",
    "from datetime import datetime\n",
    "\n",
    "# Import the OpenWeatherMap's API key\n",
    "from config import w_api_key"
   ]
  },
  {
   "cell_type": "code",
   "execution_count": 7,
   "metadata": {},
   "outputs": [
    {
     "name": "stdout",
     "output_type": "stream",
     "text": [
      "http://api.openweathermap.org/data/2.5/weather?units=Imperial&APPID=de4759d4470635991759a83c56d45683\n"
     ]
    }
   ],
   "source": [
    "# Assemble the OpenWeatherMap's API call\n",
    "url = \"http://api.openweathermap.org/data/2.5/weather?units=Imperial&APPID=\" + w_api_key\n",
    "print(url)"
   ]
  },
  {
   "cell_type": "markdown",
   "metadata": {},
   "source": [
    "## Retrieve the following information from the API call.\n",
    "\n",
    "- The latitude and longitude\n",
    "- The Max temperature\n",
    "- The % humidity\n",
    "- The % cloudiness\n",
    "- The Wind speed\n",
    "- The Weather description, i.e., cloudy, fog, light rain, clear sky, etc. "
   ]
  },
  {
   "cell_type": "code",
   "execution_count": 8,
   "metadata": {},
   "outputs": [
    {
     "ename": "NameError",
     "evalue": "name 'set_count' is not defined",
     "output_type": "error",
     "traceback": [
      "\u001b[0;31m---------------------------------------------------------------------------\u001b[0m",
      "\u001b[0;31mNameError\u001b[0m                                 Traceback (most recent call last)",
      "Input \u001b[0;32mIn [8]\u001b[0m, in \u001b[0;36m<cell line: 1>\u001b[0;34m()\u001b[0m\n\u001b[1;32m      1\u001b[0m \u001b[38;5;28;01mfor\u001b[39;00m i \u001b[38;5;129;01min\u001b[39;00m \u001b[38;5;28mrange\u001b[39m(\u001b[38;5;28mlen\u001b[39m(cities)):\n\u001b[1;32m      2\u001b[0m \n\u001b[1;32m      3\u001b[0m     \u001b[38;5;66;03m# Group cities in sets of 50 for logging purposes.\u001b[39;00m\n\u001b[1;32m      4\u001b[0m     \u001b[38;5;28;01mif\u001b[39;00m (i \u001b[38;5;241m%\u001b[39m \u001b[38;5;241m50\u001b[39m \u001b[38;5;241m==\u001b[39m \u001b[38;5;241m0\u001b[39m \u001b[38;5;129;01mand\u001b[39;00m i \u001b[38;5;241m>\u001b[39m\u001b[38;5;241m=\u001b[39m \u001b[38;5;241m50\u001b[39m):\n\u001b[0;32m----> 5\u001b[0m         set_count \u001b[38;5;241m+\u001b[39m\u001b[38;5;241m=\u001b[39m \u001b[38;5;241m1\u001b[39m\n\u001b[1;32m      6\u001b[0m         record_count \u001b[38;5;241m=\u001b[39m \u001b[38;5;241m1\u001b[39m\n\u001b[1;32m      7\u001b[0m         time\u001b[38;5;241m.\u001b[39msleep(\u001b[38;5;241m60\u001b[39m)\n",
      "\u001b[0;31mNameError\u001b[0m: name 'set_count' is not defined"
     ]
    }
   ],
   "source": [
    "for i in range(len(cities)):\n",
    "\n",
    "    # Group cities in sets of 50 for logging purposes.\n",
    "    if (i % 50 == 0 and i >= 50):\n",
    "        set_count += 1\n",
    "        record_count = 1\n",
    "        time.sleep(60)\n",
    "\n",
    "    # Create endpoint URL with each city.\n",
    "    city_url = url + \"&q=\" + cities[i]"
   ]
  },
  {
   "cell_type": "code",
   "execution_count": null,
   "metadata": {},
   "outputs": [
    {
     "name": "stdout",
     "output_type": "stream",
     "text": [
      "Beginning Data Retrieval     \n",
      "-----------------------------\n",
      "Processing Record 1 of Set 1 | nizhneyansk\n",
      "City not found. Skipping...\n",
      "Processing Record 2 of Set 1 | atuona\n",
      "City not found. Skipping...\n",
      "Processing Record 3 of Set 1 | saint-philippe\n",
      "City not found. Skipping...\n",
      "Processing Record 4 of Set 1 | tasiilaq\n",
      "City not found. Skipping...\n",
      "Processing Record 5 of Set 1 | butaritari\n",
      "City not found. Skipping...\n",
      "Processing Record 6 of Set 1 | esperance\n",
      "City not found. Skipping...\n",
      "Processing Record 7 of Set 1 | zvishavane\n",
      "City not found. Skipping...\n",
      "Processing Record 8 of Set 1 | samusu\n",
      "City not found. Skipping...\n",
      "Processing Record 9 of Set 1 | vaitupu\n",
      "City not found. Skipping...\n",
      "Processing Record 10 of Set 1 | fairbanks\n",
      "City not found. Skipping...\n",
      "Processing Record 11 of Set 1 | mataura\n",
      "City not found. Skipping...\n",
      "Processing Record 12 of Set 1 | cabo san lucas\n",
      "City not found. Skipping...\n",
      "Processing Record 13 of Set 1 | rikitea\n",
      "City not found. Skipping...\n",
      "Processing Record 14 of Set 1 | fortuna\n",
      "City not found. Skipping...\n",
      "Processing Record 15 of Set 1 | chara\n",
      "City not found. Skipping...\n",
      "Processing Record 16 of Set 1 | tiksi\n",
      "City not found. Skipping...\n",
      "Processing Record 17 of Set 1 | mareeba\n",
      "City not found. Skipping...\n",
      "Processing Record 18 of Set 1 | kuusamo\n",
      "City not found. Skipping...\n",
      "Processing Record 19 of Set 1 | hit\n",
      "City not found. Skipping...\n",
      "Processing Record 20 of Set 1 | vaini\n",
      "City not found. Skipping...\n",
      "Processing Record 21 of Set 1 | cape town\n",
      "City not found. Skipping...\n",
      "Processing Record 22 of Set 1 | taolanaro\n",
      "City not found. Skipping...\n",
      "Processing Record 23 of Set 1 | hermanus\n",
      "City not found. Skipping...\n",
      "Processing Record 24 of Set 1 | faya\n",
      "City not found. Skipping...\n",
      "Processing Record 25 of Set 1 | newton\n",
      "City not found. Skipping...\n",
      "Processing Record 26 of Set 1 | castro\n",
      "City not found. Skipping...\n",
      "Processing Record 27 of Set 1 | sao felix do xingu\n",
      "City not found. Skipping...\n",
      "Processing Record 28 of Set 1 | pisco\n",
      "City not found. Skipping...\n",
      "Processing Record 29 of Set 1 | sentyabrskiy\n",
      "City not found. Skipping...\n",
      "Processing Record 30 of Set 1 | roebourne\n",
      "City not found. Skipping...\n",
      "Processing Record 31 of Set 1 | adrar\n",
      "City not found. Skipping...\n",
      "Processing Record 32 of Set 1 | nikolskoye\n",
      "City not found. Skipping...\n",
      "Processing Record 33 of Set 1 | talnakh\n",
      "City not found. Skipping...\n",
      "Processing Record 34 of Set 1 | arraial do cabo\n",
      "City not found. Skipping...\n",
      "Processing Record 35 of Set 1 | bredasdorp\n",
      "City not found. Skipping...\n",
      "Processing Record 36 of Set 1 | borzya\n",
      "City not found. Skipping...\n",
      "Processing Record 37 of Set 1 | hithadhoo\n",
      "City not found. Skipping...\n",
      "Processing Record 38 of Set 1 | enid\n",
      "City not found. Skipping...\n",
      "Processing Record 39 of Set 1 | nantucket\n",
      "City not found. Skipping...\n",
      "Processing Record 40 of Set 1 | albany\n",
      "City not found. Skipping...\n",
      "Processing Record 41 of Set 1 | port blair\n",
      "City not found. Skipping...\n",
      "Processing Record 42 of Set 1 | northam\n",
      "City not found. Skipping...\n",
      "Processing Record 43 of Set 1 | maceio\n",
      "City not found. Skipping...\n",
      "Processing Record 44 of Set 1 | amderma\n",
      "City not found. Skipping...\n",
      "Processing Record 45 of Set 1 | punta arenas\n",
      "City not found. Skipping...\n",
      "Processing Record 46 of Set 1 | bambous virieux\n",
      "City not found. Skipping...\n",
      "Processing Record 47 of Set 1 | zachagansk\n",
      "City not found. Skipping...\n",
      "Processing Record 48 of Set 1 | shingu\n",
      "City not found. Skipping...\n",
      "Processing Record 49 of Set 1 | port lincoln\n",
      "City not found. Skipping...\n",
      "Processing Record 50 of Set 1 | hilo\n",
      "City not found. Skipping...\n",
      "Processing Record 1 of Set 2 | sobolevo\n",
      "City not found. Skipping...\n",
      "Processing Record 2 of Set 2 | bluff\n",
      "City not found. Skipping...\n",
      "Processing Record 3 of Set 2 | beringovskiy\n",
      "City not found. Skipping...\n",
      "Processing Record 4 of Set 2 | mpulungu\n",
      "City not found. Skipping...\n",
      "Processing Record 5 of Set 2 | guerrero negro\n",
      "City not found. Skipping...\n",
      "Processing Record 6 of Set 2 | avarua\n",
      "City not found. Skipping...\n",
      "Processing Record 7 of Set 2 | angra\n",
      "City not found. Skipping...\n",
      "Processing Record 8 of Set 2 | trelew\n",
      "City not found. Skipping...\n",
      "Processing Record 9 of Set 2 | rio gallegos\n",
      "City not found. Skipping...\n",
      "Processing Record 10 of Set 2 | hay river\n",
      "City not found. Skipping...\n",
      "Processing Record 11 of Set 2 | jamestown\n",
      "City not found. Skipping...\n",
      "Processing Record 12 of Set 2 | khatanga\n",
      "City not found. Skipping...\n",
      "Processing Record 13 of Set 2 | grand gaube\n",
      "City not found. Skipping...\n",
      "Processing Record 14 of Set 2 | provideniya\n",
      "City not found. Skipping...\n",
      "Processing Record 15 of Set 2 | chuy\n",
      "City not found. Skipping...\n",
      "Processing Record 16 of Set 2 | kaputa\n",
      "City not found. Skipping...\n",
      "Processing Record 17 of Set 2 | comodoro rivadavia\n",
      "City not found. Skipping...\n",
      "Processing Record 18 of Set 2 | belmonte\n",
      "City not found. Skipping...\n",
      "Processing Record 19 of Set 2 | solaro\n",
      "City not found. Skipping...\n",
      "Processing Record 20 of Set 2 | louisbourg\n",
      "City not found. Skipping...\n",
      "Processing Record 21 of Set 2 | bethel\n",
      "City not found. Skipping...\n",
      "Processing Record 22 of Set 2 | vancouver\n",
      "City not found. Skipping...\n",
      "Processing Record 23 of Set 2 | kapaa\n",
      "City not found. Skipping...\n",
      "Processing Record 24 of Set 2 | trat\n",
      "City not found. Skipping...\n",
      "Processing Record 25 of Set 2 | kibre mengist\n",
      "City not found. Skipping...\n",
      "Processing Record 26 of Set 2 | visby\n",
      "City not found. Skipping...\n",
      "Processing Record 27 of Set 2 | balimo\n",
      "City not found. Skipping...\n",
      "Processing Record 28 of Set 2 | badou\n",
      "City not found. Skipping...\n",
      "Processing Record 29 of Set 2 | saint-georges\n",
      "City not found. Skipping...\n",
      "Processing Record 30 of Set 2 | bam\n",
      "City not found. Skipping...\n",
      "Processing Record 31 of Set 2 | busselton\n",
      "City not found. Skipping...\n",
      "Processing Record 32 of Set 2 | chagda\n",
      "City not found. Skipping...\n",
      "Processing Record 33 of Set 2 | bengkulu\n",
      "City not found. Skipping...\n",
      "Processing Record 34 of Set 2 | rock sound\n",
      "City not found. Skipping...\n",
      "Processing Record 35 of Set 2 | barentsburg\n",
      "City not found. Skipping...\n",
      "Processing Record 36 of Set 2 | maragogi\n",
      "City not found. Skipping...\n",
      "Processing Record 37 of Set 2 | kendari\n",
      "City not found. Skipping...\n",
      "Processing Record 38 of Set 2 | wanning\n",
      "City not found. Skipping...\n",
      "Processing Record 39 of Set 2 | longyearbyen\n",
      "City not found. Skipping...\n",
      "Processing Record 40 of Set 2 | pamanukan\n",
      "City not found. Skipping...\n",
      "Processing Record 41 of Set 2 | east london\n",
      "City not found. Skipping...\n",
      "Processing Record 42 of Set 2 | miri\n",
      "City not found. Skipping...\n",
      "Processing Record 43 of Set 2 | awbari\n",
      "City not found. Skipping...\n",
      "Processing Record 44 of Set 2 | komsomolskiy\n",
      "City not found. Skipping...\n",
      "Processing Record 45 of Set 2 | abay\n",
      "City not found. Skipping...\n",
      "Processing Record 46 of Set 2 | klaksvik\n",
      "City not found. Skipping...\n",
      "Processing Record 47 of Set 2 | port alfred\n",
      "City not found. Skipping...\n",
      "Processing Record 48 of Set 2 | burnie\n",
      "City not found. Skipping...\n",
      "Processing Record 49 of Set 2 | chioggia\n",
      "City not found. Skipping...\n",
      "Processing Record 50 of Set 2 | odweyne\n",
      "City not found. Skipping...\n",
      "Processing Record 1 of Set 3 | lolua\n",
      "City not found. Skipping...\n",
      "Processing Record 2 of Set 3 | ndele\n",
      "City not found. Skipping...\n",
      "Processing Record 3 of Set 3 | ribeira grande\n",
      "City not found. Skipping...\n",
      "Processing Record 4 of Set 3 | qaanaaq\n",
      "City not found. Skipping...\n",
      "Processing Record 5 of Set 3 | saldanha\n",
      "City not found. Skipping...\n",
      "Processing Record 6 of Set 3 | ulaangom\n",
      "City not found. Skipping...\n",
      "Processing Record 7 of Set 3 | bilma\n",
      "City not found. Skipping...\n",
      "Processing Record 8 of Set 3 | shangrao\n",
      "City not found. Skipping...\n",
      "Processing Record 9 of Set 3 | coihaique\n",
      "City not found. Skipping...\n",
      "Processing Record 10 of Set 3 | manokwari\n",
      "City not found. Skipping...\n",
      "Processing Record 11 of Set 3 | atambua\n",
      "City not found. Skipping...\n",
      "Processing Record 12 of Set 3 | hannibal\n",
      "City not found. Skipping...\n",
      "Processing Record 13 of Set 3 | tuktoyaktuk\n",
      "City not found. Skipping...\n",
      "Processing Record 14 of Set 3 | aykhal\n",
      "City not found. Skipping...\n",
      "Processing Record 15 of Set 3 | new norfolk\n",
      "City not found. Skipping...\n",
      "Processing Record 16 of Set 3 | petropavlovsk-kamchatskiy\n",
      "City not found. Skipping...\n",
      "Processing Record 17 of Set 3 | muli\n",
      "City not found. Skipping...\n",
      "Processing Record 18 of Set 3 | ketchikan\n",
      "City not found. Skipping...\n",
      "Processing Record 19 of Set 3 | butembo\n"
     ]
    },
    {
     "name": "stdout",
     "output_type": "stream",
     "text": [
      "City not found. Skipping...\n",
      "Processing Record 20 of Set 3 | ushuaia\n"
     ]
    }
   ],
   "source": [
    "# Create an empty list to hold weather data for each city\n",
    "city_data = []\n",
    "\n",
    "# Print a message to indicate that the data retrieval starts\n",
    "print(\"Beginning Data Retrieval     \")\n",
    "print(\"-----------------------------\")\n",
    "\n",
    "# Create counters and set them to 1\n",
    "record_count = 1\n",
    "set_count = 1\n",
    "\n",
    "# Loop through all the cities in our list to fetch weather data for each city\n",
    "for i, city in enumerate(cities):\n",
    "        \n",
    "    # Group cities in sets of 50 for logging purposes\n",
    "    if (i % 50 == 0 and i >= 50):\n",
    "        set_count += 1\n",
    "        record_count = 1\n",
    "        time.sleep(60)\n",
    "\n",
    "    # Create an endpoint URL for each city\n",
    "    city_url = url + \"&q=\" + city.replace(\" \",\"+\")\n",
    "    \n",
    "    # Log the url, record, and set numbers\n",
    "    print(f\"Processing Record {record_count} of Set {set_count} | {city}\")\n",
    "\n",
    "    # Add 1 to the record count\n",
    "    record_count += 1\n",
    "\n",
    "    # Run an API request for each of the cities\n",
    "    try:\n",
    "        city_weather = requests.get(city_url).json()\n",
    "        # Parse out the latitude, longitude, max temp, humidity, cloudiness, wind, country, and weather description\n",
    "        city_lat = city_weather[\"coord\"][\"lat\"]\n",
    "        city_lng = city_weather[\"coord\"][\"lon\"]\n",
    "        city_max_temp = city_weather[\"main\"][\"temp_max\"]\n",
    "        city_humidity = city_weather[\"main\"][\"humidity\"]\n",
    "        city_clouds = city_weather[\"clouds\"][\"all\"]\n",
    "        city_wind = city_weather[\"wind\"][\"speed\"]\n",
    "        city_country = city_weather[\"sys\"][\"country\"]       \n",
    "            \n",
    "        # Append the city information into the city_data list\n",
    "        city_data.append({\"City\": city.title(),\n",
    "                              \"Lat\": city_lat,\n",
    "                              \"Lng\": city_lng,\n",
    "                              \"Max Temp\": city_max_temp,\n",
    "                              \"Humidity\": city_humidity,\n",
    "                              \"Cloudiness\": city_clouds,\n",
    "                              \"Wind Speed\": city_wind,\n",
    "                              \"Country\": city_country,\n",
    "                              \"Date\": city_date})\n",
    "\n",
    "    \n",
    "    # If an error is experienced, skip the city\n",
    "    except:\n",
    "        print(\"City not found. Skipping...\")\n",
    "        pass\n",
    "\n",
    "# Indicate that the data retrieval is complete \n",
    "print(\"-----------------------------\")\n",
    "print(\"Data Retrieval Complete      \")\n",
    "print(\"-----------------------------\")"
   ]
  },
  {
   "cell_type": "code",
   "execution_count": null,
   "metadata": {},
   "outputs": [],
   "source": [
    "# Print the length of the city_data list to verify how many cities you have\n",
    "len(city_data_df)"
   ]
  },
  {
   "cell_type": "markdown",
   "metadata": {},
   "source": [
    "## Add the weather data to a new DataFrame."
   ]
  },
  {
   "cell_type": "code",
   "execution_count": null,
   "metadata": {},
   "outputs": [],
   "source": [
    "# Use the city_data list to create a new pandas DataFrame.\n",
    "city_data_df = pd.DataFrame(city_data)"
   ]
  },
  {
   "cell_type": "code",
   "execution_count": null,
   "metadata": {},
   "outputs": [],
   "source": [
    "# Display sample data\n",
    "city_data_df.head(10)"
   ]
  },
  {
   "cell_type": "code",
   "execution_count": null,
   "metadata": {},
   "outputs": [],
   "source": [
    "# Display the DataFrame's column names using the columns Pandas function\n",
    "city_data_df.columns"
   ]
  },
  {
   "cell_type": "code",
   "execution_count": null,
   "metadata": {},
   "outputs": [],
   "source": [
    "# Create a list to reorder the column names as follows:\n",
    "# \"City\", \"Country\", \"Lat\", \"Lng\", \"Max Temp\", \"Humidity\",  \"Cloudiness\", \"Wind Speed\",  \"Current Description\"\n",
    "new_column_order = (\"City\", \"Country\", \"Lat\", \"Lng\", \"Max Temp\", \"Humidity\",  \"Cloudiness\", \"Wind Speed\",  \"Current Description\")\n",
    "\n",
    "# Recreate the DataFrame by using the new column order\n",
    "city_data_df = city_data_df[new_column_order]\n",
    "\n",
    "# Display sample data\n",
    "city_data_df.head(10)"
   ]
  },
  {
   "cell_type": "code",
   "execution_count": null,
   "metadata": {},
   "outputs": [],
   "source": [
    "# Display the data types of each column by using the dtypes Pandas function\n",
    "city_data_df.dtypes"
   ]
  },
  {
   "cell_type": "markdown",
   "metadata": {},
   "source": [
    "## Export the DataFrame as a CSV file, and save it as `WeatherPy_Database.csv` in the `Weather_Database` folder."
   ]
  },
  {
   "cell_type": "code",
   "execution_count": null,
   "metadata": {},
   "outputs": [],
   "source": [
    "# Set the output file name\n",
    "output_data_file = \"city_data.csv\"\n",
    "\n",
    "# Export the city_data DataFrame into a CSV file\n",
    "city_data_df.to_csv(output_data_file, index_label= \"City_ID\")"
   ]
  },
  {
   "cell_type": "code",
   "execution_count": null,
   "metadata": {},
   "outputs": [],
   "source": []
  }
 ],
 "metadata": {
  "kernelspec": {
   "display_name": "Python 3 (ipykernel)",
   "language": "python",
   "name": "python3"
  },
  "language_info": {
   "codemirror_mode": {
    "name": "ipython",
    "version": 3
   },
   "file_extension": ".py",
   "mimetype": "text/x-python",
   "name": "python",
   "nbconvert_exporter": "python",
   "pygments_lexer": "ipython3",
   "version": "3.9.12"
  }
 },
 "nbformat": 4,
 "nbformat_minor": 4
}
